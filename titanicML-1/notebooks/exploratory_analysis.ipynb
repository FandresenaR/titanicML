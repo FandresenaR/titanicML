{
 "cells": [
  {
   "cell_type": "markdown",
   "metadata": {},
   "source": [
    "# Analyse Exploratoire des Données\n",
    "\n",
    "Ce notebook est dédié à l'analyse exploratoire des données du challenge Titanic. Nous allons visualiser et explorer les relations entre les variables pour mieux comprendre les données."
   ]
  },
  {
   "cell_type": "code",
   "execution_count": null,
   "metadata": {
    "collapsed": false
   },
   "outputs": [],
   "source": [
    "# Importation des bibliothèques nécessaires\n",
    "import pandas as pd\n",
    "import numpy as np\n",
    "import matplotlib.pyplot as plt\n",
    "import seaborn as sns\n",
    "\n",
    "# Configuration des styles de visualisation\n",
    "sns.set(style='whitegrid')\n",
    "\n",
    "# Chargement des données\n",
    "data_dir = '../Data/'\n",
    "train_data = pd.read_csv(data_dir + 'train.csv')\n",
    "test_data = pd.read_csv(data_dir + 'test.csv')\n",
    "\n",
    "# Aperçu des données d'entraînement\n",
    "train_data.head()"
   ]
  },
  {
   "cell_type": "code",
   "execution_count": null,
   "metadata": {
    "collapsed": false
   },
   "outputs": [],
   "source": [
    "# Visualisation de la distribution des âges\n",
    "plt.figure(figsize=(10, 6))\n",
    "sns.histplot(train_data['Age'], bins=30, kde=True)\n",
    "plt.title('Distribution des âges des passagers')\n",
    "plt.xlabel('Âge')\n",
    "plt.ylabel('Fréquence')\n",
    "plt.show()"
   ]
  },
  {
   "cell_type": "code",
   "execution_count": null,
   "metadata": {
    "collapsed": false
   },
   "outputs": [],
   "source": [
    "# Visualisation de la survie par classe\n",
    "plt.figure(figsize=(10, 6))\n",
    "sns.countplot(data=train_data, x='Pclass', hue='Survived')\n",
    "plt.title('Survie par classe de passagers')\n",
    "plt.xlabel('Classe')\n",
    "plt.ylabel('Nombre de passagers')\n",
    "plt.legend(title='Survécu', loc='upper right', labels=['Non', 'Oui'])\n",
    "plt.show()"
   ]
  },
  {
   "cell_type": "code",
   "execution_count": null,
   "metadata": {
    "collapsed": false
   },
   "outputs": [],
   "source": [
    "# Visualisation de la corrélation entre les variables\n",
    "plt.figure(figsize=(12, 8))\n",
    "correlation_matrix = train_data.corr()\n",
    "sns.heatmap(correlation_matrix, annot=True, fmt='.2f', cmap='coolwarm', square=True)\n",
    "plt.title('Matrice de corrélation des variables')\n",
    "plt.show()"
   ]
  },
  {
   "cell_type": "markdown",
   "metadata": {},
   "source": [
    "## Conclusion\n",
    "\n",
    "Dans ce notebook, nous avons effectué une analyse exploratoire des données du challenge Titanic. Nous avons visualisé la distribution des âges, examiné la survie par classe de passagers et analysé la corrélation entre les différentes variables. Ces informations seront utiles pour le prétraitement et la modélisation des données."
   ]
  }
 ],
 "metadata": {
  "kernelspec": {
   "display_name": "Python 3",
   "language": "python",
   "name": "python3"
  },
  "language_info": {
   "codemirror_mode": {
    "name": "ipython",
    "version": 3
   },
   "file_extension": ".py",
   "mimetype": "text/x-python",
   "name": "python",
   "nbconvert_exporter": "python",
   "pygments_lexer": "ipython3",
   "version": "3.8.5"
  }
 },
 "nbformat": 4,
 "nbformat_minor": 4
}