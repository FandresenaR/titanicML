{
 "cells": [
  {
   "cell_type": "markdown",
   "id": "45bb7953",
   "metadata": {},
   "source": [
    "# Modélisation pour la Prédiction de Survie sur le Titanic\n",
    "\n",
    "Dans ce notebook, nous allons développer des modèles de machine learning pour prédire les passagers qui ont survécu au naufrage du Titanic.\n",
    "\n",
    "Nous suivrons ces étapes :\n",
    "1. Prétraitement des données\n",
    "2. Ingénierie des caractéristiques\n",
    "3. Sélection et entraînement de modèles\n",
    "4. Évaluation des performances\n",
    "5. Génération des prédictions pour soumission"
   ]
  },
  {
   "cell_type": "code",
   "execution_count": null,
   "id": "ceae967a",
   "metadata": {},
   "outputs": [],
   "source": [
    "# Import des bibliothèques nécessaires\n",
    "import pandas as pd\n",
    "import numpy as np\n",
    "import matplotlib.pyplot as plt\n",
    "import seaborn as sns\n",
    "import os\n",
    "from sklearn.model_selection import train_test_split, cross_val_score, GridSearchCV\n",
    "from sklearn.preprocessing import StandardScaler, OneHotEncoder\n",
    "from sklearn.impute import SimpleImputer\n",
    "from sklearn.compose import ColumnTransformer\n",
    "from sklearn.pipeline import Pipeline\n",
    "from sklearn.ensemble import RandomForestClassifier\n",
    "from sklearn.linear_model import LogisticRegression\n",
    "from sklearn.metrics import accuracy_score, confusion_matrix, classification_report, roc_curve, roc_auc_score\n",
    "import xgboost as xgb\n",
    "\n",
    "# Configuration pour un meilleur affichage\n",
    "%matplotlib inline\n",
    "plt.style.use('seaborn-v0_8-whitegrid')\n",
    "sns.set(style=\"whitegrid\")\n",
    "pd.set_option('display.max_columns', None)\n",
    "\n",
    "# Chemins vers les données\n",
    "DATA_PATH = '../Data'\n",
    "train = pd.read_csv(os.path.join(DATA_PATH, 'train.csv'))\n",
    "test = pd.read_csv(os.path.join(DATA_PATH, 'test.csv'))\n",
    "\n",
    "print(f\"Train data shape: {train.shape}\")\n",
    "print(f\"Test data shape: {test.shape}\")"
   ]
  }
 ],
 "metadata": {
  "language_info": {
   "name": "python"
  }
 },
 "nbformat": 4,
 "nbformat_minor": 5
}
