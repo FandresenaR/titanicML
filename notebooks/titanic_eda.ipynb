{
 "cells": [
  {
   "cell_type": "markdown",
   "id": "751f596b",
   "metadata": {},
   "source": [
    "# Analyse Exploratoire des Données du Titanic\n",
    "\n",
    "Dans ce notebook, nous allons explorer les données du Titanic pour mieux comprendre les facteurs qui ont pu influencer la survie des passagers.\n",
    "\n",
    "Nous examinerons:\n",
    "- La distribution des différentes caractéristiques\n",
    "- Les relations entre les caractéristiques et la survie\n",
    "- Les valeurs manquantes et comment les traiter\n",
    "- Les potentielles nouvelles caractéristiques à créer"
   ]
  },
  {
   "cell_type": "code",
   "execution_count": null,
   "id": "9d179938",
   "metadata": {},
   "outputs": [],
   "source": [
    "# Import des bibliothèques nécessaires\n",
    "import pandas as pd\n",
    "import numpy as np\n",
    "import matplotlib.pyplot as plt\n",
    "import seaborn as sns\n",
    "import os\n",
    "\n",
    "# Configuration pour un meilleur affichage\n",
    "%matplotlib inline\n",
    "plt.style.use('seaborn-v0_8-whitegrid')\n",
    "sns.set(style=\"whitegrid\")\n",
    "pd.set_option('display.max_columns', None)\n",
    "\n",
    "# Chemin vers les données\n",
    "DATA_PATH = '../Data'\n",
    "\n",
    "# Lecture des fichiers\n",
    "train = pd.read_csv(os.path.join(DATA_PATH, 'train.csv'))\n",
    "test = pd.read_csv(os.path.join(DATA_PATH, 'test.csv'))"
   ]
  }
 ],
 "metadata": {
  "language_info": {
   "name": "python"
  }
 },
 "nbformat": 4,
 "nbformat_minor": 5
}
