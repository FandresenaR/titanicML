{
 "cells": [
  {
   "cell_type": "markdown",
   "metadata": {},
   "source": [
    "# Prétraitement des données\n",
    "\n",
    "Ce notebook est dédié au prétraitement des données pour le challenge Titanic. Nous allons gérer les valeurs manquantes, encoder les variables catégorielles et préparer les données pour la modélisation."
   ]
  },
  {
   "cell_type": "code",
   "execution_count": null,
   "metadata": {
    "id": "import-libraries"
   },
   "outputs": [],
   "source": [
    "# Importation des bibliothèques nécessaires\n",
    "import pandas as pd\n",
    "import numpy as np\n",
    "from sklearn.preprocessing import OneHotEncoder, LabelEncoder\n",
    "from sklearn.impute import SimpleImputer\n",
    "from sklearn.compose import ColumnTransformer\n",
    "from sklearn.pipeline import Pipeline\n",
    "import os\n",
    "\n",
    "# Définir le chemin des données\n",
    "data_dir = '../Data'\n",
    "train_file = os.path.join(data_dir, 'train.csv')\n",
    "test_file = os.path.join(data_dir, 'test.csv')"
   ]
  },
  {
   "cell_type": "code",
   "execution_count": null,
   "metadata": {
    "id": "load-data"
   },
   "outputs": [],
   "source": [
    "# Chargement des données\n",
    "train_data = pd.read_csv(train_file)\n",
    "test_data = pd.read_csv(test_file)\n",
    "\n",
    "print(f'Données d\'entraînement : {train_data.shape[0]} lignes et {train_data.shape[1]} colonnes')\n",
    "print(f'Données de test : {test_data.shape[0]} lignes et {test_data.shape[1]} colonnes')"
   ]
  },
  {
   "cell_type": "code",
   "execution_count": null,
   "metadata": {
    "id": "missing-values"
   },
   "outputs": [],
   "source": [
    "# Gestion des valeurs manquantes\n",
    "missing_values_train = train_data.isnull().sum()\n",
    "missing_values_test = test_data.isnull().sum()\n",
    "\n",
    "print('Valeurs manquantes dans les données d\'entraînement :')\n",
    "print(missing_values_train[missing_values_train > 0])\n",
    "\n",
    "print('Valeurs manquantes dans les données de test :')\n",
    "print(missing_values_test[missing_values_test > 0])"
   ]
  },
  {
   "cell_type": "code",
   "execution_count": null,
   "metadata": {
    "id": "impute-missing-values"
   },
   "outputs": [],
   "source": [
    "# Imputation des valeurs manquantes\n",
    "numeric_features = train_data.select_dtypes(include=['int64', 'float64']).columns\n",
    "categorical_features = train_data.select_dtypes(include=['object']).columns\n",
    "\n",
    "numeric_transformer = Pipeline(steps=[\n",
    "    ('imputer', SimpleImputer(strategy='mean'))\n",
    "])\n",
    "\n",
    "categorical_transformer = Pipeline(steps=[\n",
    "    ('imputer', SimpleImputer(strategy='most_frequent')),\n",
    "    ('onehot', OneHotEncoder(handle_unknown='ignore'))\n",
    "])\n",
    "\n",
    "preprocessor = ColumnTransformer(\n",
    "    transformers=[\n",
    "        ('num', numeric_transformer, numeric_features),\n",
    "        ('cat', categorical_transformer, categorical_features)\n",
    "    ]\n",
    ")\n",
    "\n",
    "# Application du préprocesseur sur les données d'entraînement\n",
    "X_train = preprocessor.fit_transform(train_data)\n",
    "X_test = preprocessor.transform(test_data)\n",
    "\n",
    "print(f'Dimension des données d\'entraînement après prétraitement : {X_train.shape}')\n",
    "print(f'Dimension des données de test après prétraitement : {X_test.shape}')"
   ]
  },
  {
   "cell_type": "code",
   "execution_count": null,
   "metadata": {
    "id": "save-preprocessed-data"
   },
   "outputs": [],
   "source": [
    "# Sauvegarde des données prétraitées\n",
    "np.save(os.path.join(data_dir, 'X_train.npy'), X_train)\n",
    "np.save(os.path.join(data_dir, 'X_test.npy'), X_test)\n",
    "\n",
    "print('Données prétraitées sauvegardées avec succès.')"
   ]
  }
 ],
 "metadata": {
  "kernelspec": {
   "display_name": "Python 3",
   "language": "python",
   "name": "python3"
  },
  "language_info": {
   "codemirror_mode": {
    "name": "ipython",
    "version": 3
   },
   "file_extension": ".py",
   "mimetype": "text/x-python",
   "name": "python",
   "nbconvert_exporter": "python",
   "pygments_lexer": "ipython3",
   "version": "3.8.5"
  }
 },
 "nbformat": 4,
 "nbformat_minor": 4
}